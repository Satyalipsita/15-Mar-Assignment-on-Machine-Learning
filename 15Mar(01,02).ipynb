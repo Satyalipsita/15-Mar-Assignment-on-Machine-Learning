{
 "cells": [
  {
   "cell_type": "code",
   "execution_count": null,
   "id": "55074aad-f15e-4455-9fc6-d477dc99d542",
   "metadata": {},
   "outputs": [],
   "source": [
    "Q-1: \n",
    "    Artificial Intelligence (AI): AI refers to the development of intelligent \n",
    "machines that can perform tasks that typically require human intelligence, \n",
    "such as visual perception, speech recognition, decision-making, \n",
    "and natural language processing.\n",
    "\n",
    "Machine Learning (ML): ML is a subset of AI that involves training algorithms \n",
    "to make predictions or decisions based on data. In ML, the algorithms learn to r\n",
    "ecognize patterns and relationships in the data, and use this information to make \n",
    "decisions or predictions about new data.\n",
    "\n",
    "Deep Learning (DL): DL is a subset of ML that involves training neural networks\n",
    "with many layers to perform tasks such as image recognition, natural language processing, \n",
    "and speech recognition. DL algorithms are able to automatically learn hierarchical representations \n",
    "of data, which allows them to perform complex tasks with high accuracy.\n",
    "\n",
    "\n",
    "Q-2:\n",
    "    Supervised learning is a type of machine learning in which the algorithm is \n",
    "    trained on labeled data, meaning that the input data is accompanied by \n",
    "    corresponding output labels. The goal of supervised learning is to learn \n",
    "    a mapping function that can accurately predict the output for new, unseen inputs.\n",
    "\n",
    "Here are some examples of supervised learning:\n",
    "\n",
    "Image classification: An image classification task involves training an algorithm to\n",
    "classify images into different categories. For example, \n",
    "a supervised learning algorithm could be trained to recognize \n",
    "different breeds of dogs based on labeled images of dogs.\n",
    "\n",
    "Speech recognition: In speech recognition, a supervised learning\n",
    "algorithm is trained to recognize spoken words and convert them into text.\n",
    "The algorithm is trained on labeled audio recordings of spoken words and their corresponding text transcriptions.\n",
    "\n",
    "Predictive modeling: Predictive modeling involves using historical\n",
    "data to make predictions about future events. For example, \n",
    "a supervised learning algorithm could be trained to predict \n",
    "the likelihood of a customer churning based on historical data about their behavior and interactions with a product or service.\n",
    "\n",
    "Natural language processing: In natural language processing (NLP), \n",
    "a supervised learning algorithm could be trained to recognize different parts\n",
    "of speech, such as nouns, verbs, and adjectives, based on labeled text data.\n",
    "\n",
    "In each of these examples, the algorithm is trained on labeled data in order \n",
    "to learn a mapping function that can accurately predict the output for new, unseen inputs.\n",
    "\n",
    "\n"
   ]
  }
 ],
 "metadata": {
  "kernelspec": {
   "display_name": "Python 3 (ipykernel)",
   "language": "python",
   "name": "python3"
  },
  "language_info": {
   "codemirror_mode": {
    "name": "ipython",
    "version": 3
   },
   "file_extension": ".py",
   "mimetype": "text/x-python",
   "name": "python",
   "nbconvert_exporter": "python",
   "pygments_lexer": "ipython3",
   "version": "3.10.8"
  }
 },
 "nbformat": 4,
 "nbformat_minor": 5
}
